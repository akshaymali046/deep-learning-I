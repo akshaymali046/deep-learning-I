{
 "cells": [
  {
   "cell_type": "code",
   "execution_count": 11,
   "id": "decf29ec-b127-4bfa-90c4-f77d2ad10ff8",
   "metadata": {},
   "outputs": [
    {
     "name": "stdout",
     "output_type": "stream",
     "text": [
      "2481.7825812338783\n",
      "time taken :0.0ms\n",
      "2481.782581233884\n",
      "time taken :4.067897796630859ms\n"
     ]
    }
   ],
   "source": [
    "import numpy as np\n",
    "import time\n",
    "a = np.random.rand(10000)\n",
    "b = np.random.rand(10000)\n",
    "\n",
    "tic=time.time()\n",
    "c=np.dot(a,b)\n",
    "toc=time.time()\n",
    "\n",
    "print(c)\n",
    "print(\"time taken :\"+str((toc-tic)*1000)+\"ms\")\n",
    "\n",
    "c=0\n",
    "tic=time.time()\n",
    "for i in range(10000):\n",
    "    c += a[i]*b[i]\n",
    "toc=time.time()\n",
    "\n",
    "print(c)\n",
    "print(\"time taken :\"+str((toc-tic)*1000)+\"ms\")\n",
    "  \n",
    "    \n",
    "    "
   ]
  },
  {
   "cell_type": "code",
   "execution_count": null,
   "id": "d2349cc6-4836-43b1-9a6b-3da4beebad3a",
   "metadata": {},
   "outputs": [],
   "source": []
  },
  {
   "cell_type": "code",
   "execution_count": null,
   "id": "50cd0f71-c2ca-4733-8084-da54b667a0d7",
   "metadata": {},
   "outputs": [],
   "source": []
  },
  {
   "cell_type": "code",
   "execution_count": null,
   "id": "0575d4f1-334a-419e-a9b7-67f272ff54dd",
   "metadata": {},
   "outputs": [],
   "source": []
  },
  {
   "cell_type": "code",
   "execution_count": null,
   "id": "af626a6e-97cd-44bc-95f6-ef7085eaf378",
   "metadata": {},
   "outputs": [],
   "source": []
  }
 ],
 "metadata": {
  "kernelspec": {
   "display_name": "Python 3 (ipykernel)",
   "language": "python",
   "name": "python3"
  },
  "language_info": {
   "codemirror_mode": {
    "name": "ipython",
    "version": 3
   },
   "file_extension": ".py",
   "mimetype": "text/x-python",
   "name": "python",
   "nbconvert_exporter": "python",
   "pygments_lexer": "ipython3",
   "version": "3.10.4"
  }
 },
 "nbformat": 4,
 "nbformat_minor": 5
}
