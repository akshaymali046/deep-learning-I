{
 "cells": [
  {
   "cell_type": "code",
   "execution_count": 3,
   "id": "6f4eaffa-2f89-4cea-9a8d-aed478a5ccb9",
   "metadata": {},
   "outputs": [
    {
     "name": "stdout",
     "output_type": "stream",
     "text": [
      "rgdre17\n",
      "[[17]]\n"
     ]
    }
   ],
   "source": [
    "import numpy as np\n",
    "cost=[[17]]\n",
    "costs=np.squeeze(cost)\n",
    "print(\"rgdre\"+str(costs))\n",
    "print(cost)"
   ]
  },
  {
   "cell_type": "code",
   "execution_count": null,
   "id": "b12a7b3d-ffdc-4258-a44a-31118188fc03",
   "metadata": {},
   "outputs": [],
   "source": []
  }
 ],
 "metadata": {
  "kernelspec": {
   "display_name": "Python 3 (ipykernel)",
   "language": "python",
   "name": "python3"
  },
  "language_info": {
   "codemirror_mode": {
    "name": "ipython",
    "version": 3
   },
   "file_extension": ".py",
   "mimetype": "text/x-python",
   "name": "python",
   "nbconvert_exporter": "python",
   "pygments_lexer": "ipython3",
   "version": "3.10.4"
  }
 },
 "nbformat": 4,
 "nbformat_minor": 5
}
