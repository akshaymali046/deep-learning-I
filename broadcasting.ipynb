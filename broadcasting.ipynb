{
 "cells": [
  {
   "cell_type": "code",
   "execution_count": 4,
   "id": "d623bbb4-7143-4ad1-a728-cd7755fbc557",
   "metadata": {},
   "outputs": [
    {
     "name": "stdout",
     "output_type": "stream",
     "text": [
      "[[1 2 3 4]\n",
      " [1 2 3 4]\n",
      " [1 2 3 4]]\n"
     ]
    }
   ],
   "source": [
    "import numpy as np\n",
    "A = np.array([[1,2,3,4],[1,2,3,4],[1,2,3,4]])\n",
    "print(A)"
   ]
  },
  {
   "cell_type": "code",
   "execution_count": 6,
   "id": "d9ae5ef2-c840-4d30-9558-274c6b9e6b68",
   "metadata": {},
   "outputs": [
    {
     "name": "stdout",
     "output_type": "stream",
     "text": [
      "[ 3  6  9 12]\n"
     ]
    }
   ],
   "source": [
    "vericalsumarray=A.sum(axis=0)\n",
    "print(vericalsumarray)\n"
   ]
  },
  {
   "cell_type": "code",
   "execution_count": 13,
   "id": "60e18e48-302e-4f03-9c81-bd6e93b6c0af",
   "metadata": {},
   "outputs": [
    {
     "name": "stdout",
     "output_type": "stream",
     "text": [
      "[[0.33333333 0.33333333 0.33333333 0.33333333]\n",
      " [0.33333333 0.33333333 0.33333333 0.33333333]\n",
      " [0.33333333 0.33333333 0.33333333 0.33333333]]\n"
     ]
    }
   ],
   "source": [
    "percentmatrix=A/vericalsumarray\n",
    "print(percentmatrix)"
   ]
  },
  {
   "cell_type": "code",
   "execution_count": 17,
   "id": "8792bf26-1785-4227-ae6c-3a28ee0090ee",
   "metadata": {},
   "outputs": [
    {
     "name": "stdout",
     "output_type": "stream",
     "text": [
      "[1 2 3 4 5]\n",
      "[[1 2 3 4 5]\n",
      " [1 2 3 4 5]\n",
      " [1 2 3 4 5]]\n",
      "add=[[ 2  4  6  8 10]\n",
      " [ 2  4  6  8 10]\n",
      " [ 2  4  6  8 10]]\n",
      "sub=[[0 0 0 0 0]\n",
      " [0 0 0 0 0]\n",
      " [0 0 0 0 0]]\n",
      "div=[[1. 1. 1. 1. 1.]\n",
      " [1. 1. 1. 1. 1.]\n",
      " [1. 1. 1. 1. 1.]]\n",
      "mult=[[ 1  4  9 16 25]\n",
      " [ 1  4  9 16 25]\n",
      " [ 1  4  9 16 25]]\n"
     ]
    }
   ],
   "source": [
    "B=np.array([1,2,3,4,5])\n",
    "print(B)\n",
    "C=np.array([[1,2,3,4,5],[1,2,3,4,5],[1,2,3,4,5]])\n",
    "print(C)\n",
    "D=B+C\n",
    "E=B/C\n",
    "F=B*C\n",
    "G=B-C\n",
    "print(\"add=\"+str(D))\n",
    "print(\"sub=\"+str(G))\n",
    "print(\"div=\"+str(E))\n",
    "print(\"mult=\"+str(F))"
   ]
  },
  {
   "cell_type": "code",
   "execution_count": null,
   "id": "06f836f2-9e2e-4a8a-b988-4d8f30281227",
   "metadata": {},
   "outputs": [],
   "source": []
  }
 ],
 "metadata": {
  "kernelspec": {
   "display_name": "Python 3 (ipykernel)",
   "language": "python",
   "name": "python3"
  },
  "language_info": {
   "codemirror_mode": {
    "name": "ipython",
    "version": 3
   },
   "file_extension": ".py",
   "mimetype": "text/x-python",
   "name": "python",
   "nbconvert_exporter": "python",
   "pygments_lexer": "ipython3",
   "version": "3.10.4"
  }
 },
 "nbformat": 4,
 "nbformat_minor": 5
}
